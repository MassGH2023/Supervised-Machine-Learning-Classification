{
  "cells": [
    {
      "cell_type": "markdown",
      "metadata": {
        "id": "view-in-github",
        "colab_type": "text"
      },
      "source": [
        "<a href=\"https://colab.research.google.com/github/MassGH2023/Supervised-Machine-Learning-Classification/blob/main/Ramdom_forest.ipynb\" target=\"_parent\"><img src=\"https://colab.research.google.com/assets/colab-badge.svg\" alt=\"Open In Colab\"/></a>"
      ]
    },
    {
      "cell_type": "markdown",
      "metadata": {
        "id": "29c6c345-35b1-471c-ad21-d7955787c09f"
      },
      "source": [
        "<p style=\"text-align:center\">\n",
        "    <a href=\"https://skills.network\" target=\"_blank\">\n",
        "    <img src=\"https://cf-courses-data.s3.us.cloud-object-storage.appdomain.cloud/assets/logos/SN_web_lightmode.png\" width=\"200\" alt=\"Skills Network Logo\">\n",
        "    </a>\n",
        "</p>\n",
        "\n",
        "# Random Forests (RF) for classification with Python\n",
        "\n",
        "Estimated time needed: **45** minutes\n",
        "\n",
        "## Objectives\n",
        "\n",
        "After completing this lab you will be able to:\n",
        "\n",
        "*   Understand the difference between Bagging and Random Forest\n",
        "*   Understand  that Random Forests have less Correlation between predictors in their ensemble, improving accuracy\n",
        "*   Apply Random Forest\n",
        "*   Understand Hyperparameters selection in  Random Forest\n"
      ]
    },
    {
      "cell_type": "markdown",
      "metadata": {
        "id": "bd655e85-b4f6-44bd-a0f2-54b5a2c997d4"
      },
      "source": [
        "In this notebook, you will learn Random Forests (RF) for classification and Regression. Random Forest is similar to Bagging using multiple model versions and aggregating the ensemble of models to make a single prediction. RF uses an ensemble of tree’s and introduces randomness into each tree by randomly selecting a subset of the features for each node to split on. This makes the predictions of each tree uncorrelated, improving results when the models are aggregated. In this lab, we will illustrate the sampling process of RF to Bagging, then demonstrate how each predictor for random forest are not correlated. Finally, we will apply Random Forests to several datasets using Grid-Search to find the optimum  Hyperparameters.\n"
      ]
    },
    {
      "cell_type": "markdown",
      "metadata": {
        "id": "d080002c-32d6-4ceb-9973-338b86b3dda7"
      },
      "source": [
        "<h1>Table of contents</h1>\n",
        "\n",
        "<div class=\"alert alert-block alert-info\" style=\"margin-top: 20px\">\n",
        "    <ol>\n",
        "        <li><a href=\"https://#RFvsBag\">What's the difference between RF and Bagging </a></li>\n",
        "        <li><a href=\"https://#Example\">Cancer Data Example</li>\n",
        "        <li><a href=\"https://practice/?utm_medium=Exinfluencer&utm_source=Exinfluencer&utm_content=000026UJ&utm_term=10006555&utm_id=NA-SkillsNetwork-Channel-SkillsNetworkCoursesIBMML241ENSkillsNetwork31576874-2022-01-01\">Practice</a></li>\n",
        "\n",
        "</div>\n",
        "<br>\n",
        "<hr>\n"
      ]
    },
    {
      "cell_type": "markdown",
      "metadata": {
        "id": "4cd58d7c-79f3-47a2-9e9c-a7165c686974"
      },
      "source": [
        "Let's first import the required libraries:\n"
      ]
    },
    {
      "cell_type": "code",
      "metadata": {
        "id": "4bd23f04-f80a-46a2-9ffa-d1f661e52d88"
      },
      "outputs": [],
      "source": [
        "# All Libraries required for this lab are listed below. The libraries pre-installed on Skills Network Labs are commented.\n",
        "# !mamba install -qy pandas==1.3.3 numpy==1.21.2 ipywidgets==7.4.2 scipy==7.4.2 tqdm==4.62.3 matplotlib==3.5.0 seaborn==0.9.0\n",
        "# Note: If your environment doesn't support \"!mamba install\", use \"!pip install\""
      ],
      "execution_count": null
    },
    {
      "cell_type": "code",
      "metadata": {
        "id": "e7e0e769-cdb2-4a9b-8a60-64ba407b8593"
      },
      "outputs": [],
      "source": [
        "!pip install pandas\n",
        "!pip install numpy\n",
        "!pip install matplotlib\n",
        "!pip install seaborn\n",
        "!pip install --upgrade scikit-learn"
      ],
      "execution_count": null
    },
    {
      "cell_type": "code",
      "metadata": {
        "id": "b5f5cc64-030d-4238-879e-6b4efd638615"
      },
      "outputs": [],
      "source": [
        "import pandas as pd\n",
        "import pylab as plt\n",
        "import numpy as np\n",
        "import scipy.optimize as opt\n",
        "from sklearn import preprocessing\n",
        "%matplotlib inline\n",
        "import matplotlib.pyplot as plt\n",
        "from sklearn import metrics\n",
        "from tqdm import tqdm\n"
      ],
      "execution_count": null
    },
    {
      "cell_type": "markdown",
      "metadata": {
        "id": "6f9faaac-e2ce-44ed-b0f4-f1090a470d52"
      },
      "source": [
        "Ignore error warnings\n"
      ]
    },
    {
      "cell_type": "code",
      "metadata": {
        "id": "5caf114a-db63-4010-8f14-2a3cf0da02d2"
      },
      "outputs": [],
      "source": [
        "import warnings\n",
        "warnings.filterwarnings('ignore')"
      ],
      "execution_count": null
    },
    {
      "cell_type": "markdown",
      "metadata": {
        "id": "a9635ef9-01a0-45ef-95fd-09d415d52c3c"
      },
      "source": [
        "This function will calculate the accuracy of the training and testing data given a model.\n"
      ]
    },
    {
      "cell_type": "code",
      "metadata": {
        "id": "e909075b-d303-4344-8dee-aeaf39d465a9"
      },
      "outputs": [],
      "source": [
        "def get_accuracy(X_train, X_test, y_train, y_test, model):\n",
        "    return  {\"test Accuracy\":metrics.accuracy_score(y_test, model.predict(X_test)),\"trian Accuracy\": metrics.accuracy_score(y_train, model.predict(X_train))}"
      ],
      "execution_count": null
    },
    {
      "cell_type": "markdown",
      "metadata": {
        "id": "64ba7051-c342-4519-a786-1d288fbcdc95"
      },
      "source": [
        "This function calculates the average correlation between predictors and displays the pairwise correlation between  predictors.\n"
      ]
    },
    {
      "cell_type": "code",
      "metadata": {
        "id": "fb716495-f1b2-4980-9a3a-14446ce93444"
      },
      "outputs": [],
      "source": [
        "\n",
        "def get_correlation(X_test, y_test,models):\n",
        "    #This function calculates the average correlation between predictors\n",
        "    n_estimators=len(models.estimators_)\n",
        "    prediction=np.zeros((y_test.shape[0],n_estimators))\n",
        "    predictions=pd.DataFrame({'estimator '+str(n+1):[] for n in range(n_estimators)})\n",
        "\n",
        "    for key,model in zip(predictions.keys(),models.estimators_):\n",
        "        predictions[key]=model.predict(X_test.to_numpy())\n",
        "\n",
        "    corr=predictions.corr()\n",
        "    print(\"Average correlation between predictors: \", corr.mean().mean()-1/n_estimators)\n",
        "    return corr\n"
      ],
      "execution_count": null
    },
    {
      "cell_type": "markdown",
      "metadata": {
        "id": "b4e4ca94-d0b9-49f9-bf7f-f5d99387137e"
      },
      "source": [
        "<h2 id=\"RFvsBag\">  What's the difference between RF and Bagging </h2>\n"
      ]
    },
    {
      "cell_type": "markdown",
      "metadata": {
        "id": "ace3726d-7c5b-4f10-ad7a-3df4c60e8411"
      },
      "source": [
        "RF is similar to Bagging in that it uses model ensembles to make predictions. Unlike Bagging, when you add more models, RF does not suffer from Overfitting. In this section, we go over some of the differences between RF and Bagging, using the dataset:\n"
      ]
    },
    {
      "cell_type": "markdown",
      "metadata": {
        "id": "f23465f1-e9ce-482a-aff3-a5a117ee2477"
      },
      "source": [
        "### About the dataset\n",
        "\n",
        "We will use a telecommunications dataset for predicting customer churn. This is a historical customer dataset where each row represents one customer. The data is relatively easy to understand, and you may uncover insights you can use immediately. Typically, it is less expensive to keep customers than acquire new ones, so the focus of this analysis is to predict the customers who will stay with the company.\n",
        "\n",
        "This data set provides information to help you predict what behavior will help you to retain customers. You can analyze all relevant customer data and develop focused customer retention programs.\n",
        "\n",
        "The dataset includes information about:\n",
        "\n",
        "*   Customers who left within the last month – the column is called Churn\n",
        "*   Services that each customer has signed up for – phone, multiple lines, internet, online security, online backup, device protection, tech support, and streaming TV and movies\n",
        "*   Customer account information – how long they had been a customer, contract, payment method, paperless billing, monthly charges, and total charges\n",
        "*   Demographic info about customers – gender, age range, and if they have partners and dependents\n"
      ]
    },
    {
      "cell_type": "markdown",
      "metadata": {
        "id": "5b9ee01d-37d4-4412-b7c8-4ac2163f52d5"
      },
      "source": [
        "Load Data From CSV File\n"
      ]
    },
    {
      "cell_type": "code",
      "metadata": {
        "id": "fbc97574-4673-47f6-afeb-325821186ca7"
      },
      "outputs": [],
      "source": [
        "churn_df = pd.read_csv(\"https://cf-courses-data.s3.us.cloud-object-storage.appdomain.cloud/IBMDeveloperSkillsNetwork-ML0101EN-SkillsNetwork/labs/Module%203/data/ChurnData.csv\")\n",
        "\n",
        "churn_df.head()"
      ],
      "execution_count": null
    },
    {
      "cell_type": "markdown",
      "metadata": {
        "id": "d03f759b-ef56-481e-9498-7abf7f72de72"
      },
      "source": [
        "### Data pre-processing and feature selection\n"
      ]
    },
    {
      "cell_type": "markdown",
      "metadata": {
        "id": "32ea316f-663e-4389-b44a-5df482661500"
      },
      "source": [
        "Let's select some features for the modeling. Also, we change the target data type to be an integer, as it is a requirement by the skitlearn algorithm:\n"
      ]
    },
    {
      "cell_type": "code",
      "metadata": {
        "id": "14167c39-f511-4f28-bf9e-fad71b037806"
      },
      "outputs": [],
      "source": [
        "churn_df = churn_df[['tenure', 'age', 'address', 'income', 'ed', 'employ', 'equip', 'callcard', 'wireless','churn']]\n",
        "churn_df['churn'] = churn_df['churn'].astype('int')\n",
        "churn_df.head()"
      ],
      "execution_count": null
    },
    {
      "cell_type": "markdown",
      "metadata": {
        "id": "8ee601e0-85a0-49e2-9d4a-73972f9a675c"
      },
      "source": [
        "### Bootstrap Sampling\n",
        "\n",
        "Bootstrap Sampling is a method that involves drawing sample data repeatedly with replacement from a data source to estimate a model parameter. Scikit-learn has methods for Bagging, but it is helpful to understand Bootstrap Sampling. We will import \"resample\".\n"
      ]
    },
    {
      "cell_type": "code",
      "metadata": {
        "id": "e017848f-bebd-405f-b165-5fddadaa419d"
      },
      "outputs": [],
      "source": [
        "from sklearn.utils import resample"
      ],
      "execution_count": null
    },
    {
      "cell_type": "markdown",
      "metadata": {
        "id": "f4201447-69d1-43ea-b8bc-fa7b48e5e7e7"
      },
      "source": [
        "Consider the first five rows of data:\n"
      ]
    },
    {
      "cell_type": "code",
      "metadata": {
        "id": "208439ee-fecd-48d8-a3d1-511dd0188baa"
      },
      "outputs": [],
      "source": [
        "churn_df[0:5]"
      ],
      "execution_count": null
    },
    {
      "cell_type": "markdown",
      "metadata": {
        "id": "7db509b3-1283-4768-9f04-14e8f5a14e84"
      },
      "source": [
        "We can perform a bootstrap sample using the function \"resample\"; we see the dataset is of the same size(5), but some rows are repeated:\n"
      ]
    },
    {
      "cell_type": "code",
      "metadata": {
        "id": "d1a94fbc-ee22-4bb8-bbc8-9c091117f2f5"
      },
      "outputs": [],
      "source": [
        "for n in range(5):\n",
        "\n",
        "    print(resample(churn_df[0:5]))"
      ],
      "execution_count": null
    },
    {
      "cell_type": "markdown",
      "metadata": {
        "id": "2d30d870-c2ec-4f02-9d87-dc7002292a5c"
      },
      "source": [
        "### Select Variables at Random\n"
      ]
    },
    {
      "cell_type": "markdown",
      "metadata": {
        "id": "8df06b37-3d59-4fa0-bb91-ba096f2c6386"
      },
      "source": [
        "Like Bagging, RF uses an independent bootstrap sample from the training data. In addition, we select $m$ variables at random out of all $M$ possible\n",
        "variables. Let's do an example.\n"
      ]
    },
    {
      "cell_type": "code",
      "metadata": {
        "id": "f578f42d-2efc-4bfd-8760-06f48256fcd6"
      },
      "outputs": [],
      "source": [
        "X=churn_df[['tenure', 'age', 'address', 'income', 'ed', 'employ', 'equip']]"
      ],
      "execution_count": null
    },
    {
      "cell_type": "markdown",
      "metadata": {
        "id": "93ca7b9c-0c69-4111-b398-7486761ccb52"
      },
      "source": [
        "there are 7 features\n"
      ]
    },
    {
      "cell_type": "code",
      "metadata": {
        "id": "d9dfec48-5b34-4727-a7c9-ea5add90c317"
      },
      "outputs": [],
      "source": [
        "M=X.shape[1]\n",
        "M"
      ],
      "execution_count": null
    },
    {
      "cell_type": "markdown",
      "metadata": {
        "id": "64c9f9b4-2b59-4d44-a235-516ec0036261"
      },
      "source": [
        "Let us select $𝑚=3$, and randomly sample features from the 5 Bootstrap Samples from above.\n"
      ]
    },
    {
      "cell_type": "code",
      "metadata": {
        "id": "77da3daf-d6a0-43c5-9ec7-025249f77e30"
      },
      "outputs": [],
      "source": [
        "m=3"
      ],
      "execution_count": null
    },
    {
      "cell_type": "markdown",
      "metadata": {
        "id": "cc3e98b2-f0f2-4c42-a913-0d6eb234b521"
      },
      "source": [
        "We list out the index of the features\n"
      ]
    },
    {
      "cell_type": "code",
      "metadata": {
        "id": "e723cd2a-5ec8-48e8-a7a7-dd18d26c2a7d"
      },
      "outputs": [],
      "source": [
        "feature_index= range(M)\n",
        "feature_index"
      ],
      "execution_count": null
    },
    {
      "cell_type": "markdown",
      "metadata": {
        "id": "27717603-9a10-41ec-a4e5-ce3fbee56cb6"
      },
      "source": [
        "We can use the function to sample to  randomly select indexes\n"
      ]
    },
    {
      "cell_type": "code",
      "metadata": {
        "id": "d83e24f0-ea8d-480c-9cd6-26a116570091"
      },
      "outputs": [],
      "source": [
        "import random\n",
        "random.sample(feature_index,m)"
      ],
      "execution_count": null
    },
    {
      "cell_type": "markdown",
      "metadata": {
        "id": "7f843f5c-d503-4cae-bc5c-2e1d528a07dc"
      },
      "source": [
        "We now randomly select features from the bootstrap samples to randomly select a subset of features for each node to split on.\n"
      ]
    },
    {
      "cell_type": "code",
      "metadata": {
        "id": "e0990265-4ab2-4789-b439-a387b403cbdd"
      },
      "outputs": [],
      "source": [
        "for n in range(5):\n",
        "\n",
        "    print(\"sample {}\".format(n))\n",
        "    print(resample(X[0:5]).iloc[:,random.sample(feature_index,m)])"
      ],
      "execution_count": null
    },
    {
      "cell_type": "markdown",
      "metadata": {
        "id": "32a094f1-7550-4ca5-bcde-234badf75deb"
      },
      "source": [
        "In Random Forest, we would use these data subsets to train each node of a tree.\n"
      ]
    },
    {
      "cell_type": "markdown",
      "metadata": {
        "id": "c91e9869-484c-45e9-8b98-3453d3b1bf00"
      },
      "source": [
        "## Train/Test dataset\n"
      ]
    },
    {
      "cell_type": "markdown",
      "metadata": {
        "id": "7eb3128f-5643-45f4-b038-6366902d3a88"
      },
      "source": [
        "Let's define X, and y for our dataset:\n"
      ]
    },
    {
      "cell_type": "code",
      "metadata": {
        "id": "1e812510-1c77-4c3a-882b-2c6b73c62112"
      },
      "outputs": [],
      "source": [
        "y = churn_df['churn']\n",
        "y.head()"
      ],
      "execution_count": null
    },
    {
      "cell_type": "markdown",
      "metadata": {
        "id": "ede2a8bd-e496-4b3f-8370-8c4ce57996cc"
      },
      "source": [
        "## Train/Test dataset\n"
      ]
    },
    {
      "cell_type": "markdown",
      "metadata": {
        "id": "7888b754-ed8e-40b5-b779-6ae9b73e1f1e"
      },
      "source": [
        "We split our dataset into train and test set:\n"
      ]
    },
    {
      "cell_type": "code",
      "metadata": {
        "id": "faa3d340-81e9-49e2-aed0-b3a0a1e55840"
      },
      "outputs": [],
      "source": [
        "from sklearn.model_selection import train_test_split\n",
        "X_train, X_test, y_train, y_test = train_test_split( X, y, test_size=0.3, random_state=1)\n",
        "print ('Train set', X_train.shape,  y_train.shape)\n",
        "print ('Test set', X_test.shape,  y_test.shape)"
      ],
      "execution_count": null
    },
    {
      "cell_type": "markdown",
      "metadata": {
        "id": "2378dc8d-e783-4a25-9d39-ac9ce64e8a14"
      },
      "source": [
        "### Bagging  Review\n"
      ]
    },
    {
      "cell_type": "code",
      "metadata": {
        "id": "a7a00b67-7c72-431c-b46b-12bede16ea43"
      },
      "outputs": [],
      "source": [
        "from sklearn.ensemble import BaggingClassifier\n",
        "from sklearn.tree import DecisionTreeClassifier"
      ],
      "execution_count": null
    },
    {
      "cell_type": "markdown",
      "metadata": {
        "id": "4b1074f7-792d-4975-8a6f-8011d2404963"
      },
      "source": [
        "Bagging improves models that suffer from overfitting; they do well on the training data, but they do not generalize well to unseen data. Decision Trees are a prime candidate for this reason. In addition, they are fast to train; We create a <code>BaggingClassifier</code> object,  with a Decision Tree as the <code>estimator</code>.\n"
      ]
    },
    {
      "cell_type": "code",
      "metadata": {
        "id": "b8b10286-f6bd-444d-b968-58498475e010"
      },
      "outputs": [],
      "source": [
        "n_estimators=20\n",
        "Bag= BaggingClassifier(estimator=DecisionTreeClassifier(criterion=\"entropy\", max_depth = 4,random_state=2),n_estimators=n_estimators,random_state=0,bootstrap=True)"
      ],
      "execution_count": null
    },
    {
      "cell_type": "markdown",
      "metadata": {
        "id": "0dd9a665-83ef-4c91-979b-0098a4711dd7"
      },
      "source": [
        "We fit the model:\n"
      ]
    },
    {
      "cell_type": "code",
      "metadata": {
        "id": "082d52e0-08f4-4fe9-84e9-38e3012e178a"
      },
      "outputs": [],
      "source": [
        "Bag.fit(X_train,y_train)"
      ],
      "execution_count": null
    },
    {
      "cell_type": "markdown",
      "metadata": {
        "id": "d5e646b6-91f9-4e2f-b1af-e3796b4c68c6"
      },
      "source": [
        "The method <code>predict</code> aggregates the predictions by voting:\n"
      ]
    },
    {
      "cell_type": "code",
      "metadata": {
        "id": "f9fd59fc-cbe4-405d-b4cb-e4aec579c9d0"
      },
      "outputs": [],
      "source": [
        "Bag.predict(X_test).shape"
      ],
      "execution_count": null
    },
    {
      "cell_type": "markdown",
      "metadata": {
        "id": "657c5d7e-410f-4b5c-a904-71da576b91e3"
      },
      "source": [
        "We see the training accuracy is slightly better but the test accuracy improves dramatically:\n"
      ]
    },
    {
      "cell_type": "code",
      "metadata": {
        "id": "14f49704-c8af-44dc-aaa3-ec4196a79422"
      },
      "outputs": [],
      "source": [
        "print(get_accuracy(X_train, X_test, y_train, y_test,  Bag))"
      ],
      "execution_count": null
    },
    {
      "cell_type": "markdown",
      "metadata": {
        "id": "8cc29feb-99cf-4b45-9217-882f3c766921"
      },
      "source": [
        "Each tree is similar; we can see this by plotting the correlation between each tree and the average correlation.\n"
      ]
    },
    {
      "cell_type": "code",
      "metadata": {
        "id": "0e82f748-d211-4bbd-ba3c-146113ad1f95"
      },
      "outputs": [],
      "source": [
        "get_correlation(X_test, y_test,Bag).style.background_gradient(cmap='coolwarm')\n"
      ],
      "execution_count": null
    },
    {
      "cell_type": "markdown",
      "metadata": {
        "id": "f473038a-2ab3-4dad-8708-b5fa8e7d9dda"
      },
      "source": [
        "It can be shown that this correlation reduces performance. Random forest minimizes the correlation between trees, improving results.\n"
      ]
    },
    {
      "cell_type": "markdown",
      "metadata": {
        "id": "763462c2-57d8-4a6c-b9a3-4860a1d2c89a"
      },
      "source": [
        "## Random  Forest\n"
      ]
    },
    {
      "cell_type": "markdown",
      "metadata": {
        "id": "e0d47403-654c-4ea2-94b7-96f425687dd9"
      },
      "source": [
        "Random forests are a combination of trees such that each tree depends on a random subset of the features and data. As a result, each tree in the forest is different and usually performs better than Bagging. The most important parameters are the number of trees and the number of features to sample. First, we import <code>RandomForestClassifier</code>.\n"
      ]
    },
    {
      "cell_type": "code",
      "metadata": {
        "id": "237c4e99-ce1c-4b26-9b59-14abfffffc13"
      },
      "outputs": [],
      "source": [
        "from sklearn.ensemble import RandomForestClassifier"
      ],
      "execution_count": null
    },
    {
      "cell_type": "markdown",
      "metadata": {
        "id": "ab05f159-ab2a-4af0-bed8-7e0220e114a2"
      },
      "source": [
        "Like Bagging, increasing the number of trees improves results and does not lead to overfitting in most cases; but the improvements plateau as you add more trees. For this exxample, the number of trees in the forest (default=100):\n"
      ]
    },
    {
      "cell_type": "code",
      "metadata": {
        "id": "9848f296-6387-4d29-9677-b76d05ada7dc"
      },
      "outputs": [],
      "source": [
        "n_estimators=20"
      ],
      "execution_count": null
    },
    {
      "cell_type": "markdown",
      "metadata": {
        "id": "08d611bc-0175-4cd2-8090-2116ba94fba1"
      },
      "source": [
        "<code>max_features </code>   $m$ the number of features to consider when looking for the best split. If we have M features denoted by:\n"
      ]
    },
    {
      "cell_type": "code",
      "metadata": {
        "id": "87efeec4-4765-42e8-9781-a302aec22ba7"
      },
      "outputs": [],
      "source": [
        "M_features=X.shape[1]"
      ],
      "execution_count": null
    },
    {
      "cell_type": "markdown",
      "metadata": {
        "id": "6775688e-5282-4429-b80b-005ad9878a87"
      },
      "source": [
        "If we have M features, a popular method to determine m is to use the square root of M\n"
      ]
    },
    {
      "cell_type": "markdown",
      "metadata": {
        "id": "efd5c01a-14f1-4a80-a04d-7f748e2cfdc3"
      },
      "source": [
        "$m= floor(\\sqrt{M}) $\n"
      ]
    },
    {
      "cell_type": "code",
      "metadata": {
        "id": "577040c9-1b5d-42f5-9516-c1caba1227db"
      },
      "outputs": [],
      "source": [
        "max_features=round(np.sqrt(M_features))-1\n",
        "max_features"
      ],
      "execution_count": null
    },
    {
      "cell_type": "code",
      "metadata": {
        "id": "cb9e79cb-457d-4a86-a190-637417e14174"
      },
      "outputs": [],
      "source": [
        "y_test"
      ],
      "execution_count": null
    },
    {
      "cell_type": "markdown",
      "metadata": {
        "id": "ac11c380-7c8b-4bbb-b2fc-b96b2eee13b3"
      },
      "source": [
        "We use floor to make sure $m$ is an integer:\n"
      ]
    },
    {
      "cell_type": "markdown",
      "metadata": {
        "id": "6c70f167-9ed9-4f68-bb24-8377c89c3963"
      },
      "source": [
        "We create the RF object :\n"
      ]
    },
    {
      "cell_type": "code",
      "metadata": {
        "id": "d0f962cd-347f-43fe-bd52-e31d70d1adff"
      },
      "outputs": [],
      "source": [
        "model = RandomForestClassifier( max_features=max_features,n_estimators=n_estimators, random_state=0)"
      ],
      "execution_count": null
    },
    {
      "cell_type": "markdown",
      "metadata": {
        "id": "d0b094e2-ce55-4946-a139-dde873ad2983"
      },
      "source": [
        "We train the model\n"
      ]
    },
    {
      "cell_type": "code",
      "metadata": {
        "id": "def91f68-efde-495f-9091-cfa58cbbcd1d"
      },
      "outputs": [],
      "source": [
        "model.fit(X_train,y_train)"
      ],
      "execution_count": null
    },
    {
      "cell_type": "markdown",
      "metadata": {
        "id": "b037263a-4231-4222-a72c-dab738fa7b2d"
      },
      "source": [
        "We obtain the training and testing accuracy; we see that RF does better than Bagging:\n"
      ]
    },
    {
      "cell_type": "code",
      "metadata": {
        "id": "86c1665f-bccd-4566-992e-eceafdfe9252"
      },
      "outputs": [],
      "source": [
        "print(get_accuracy(X_train, X_test, y_train, y_test, model))"
      ],
      "execution_count": null
    },
    {
      "cell_type": "markdown",
      "metadata": {
        "id": "90f06484-7905-4533-8374-6b3473a46c68"
      },
      "source": [
        "We see that each tree in RF is less correlated with the other trees than Bagging:\n"
      ]
    },
    {
      "cell_type": "code",
      "metadata": {
        "id": "fea01579-114c-44ef-87c5-e7aafea5cadc"
      },
      "outputs": [],
      "source": [
        "get_correlation(X_test, y_test,model).style.background_gradient(cmap='coolwarm')"
      ],
      "execution_count": null
    },
    {
      "cell_type": "markdown",
      "metadata": {
        "id": "6e9a8150-ffea-435f-8db2-e9ea4e1b98e4"
      },
      "source": [
        "<h2 id=\"Example\">Cancer Data Example</h2>\n",
        "\n",
        "The example is based on a dataset that is publicly available from the UCI Machine Learning Repository (Asuncion and Newman, 2007)[[http://mlearn.ics.uci.edu/MLRepository.html](http://mlearn.ics.uci.edu/MLRepository.html?utm_medium=Exinfluencer&utm_source=Exinfluencer&utm_content=000026UJ&utm_term=10006555&utm_id=NA-SkillsNetwork-Channel-SkillsNetworkCoursesIBMML241ENSkillsNetwork31576874-2022-01-01)]. The dataset consists of several hundred human cell sample records, each of which contains the values of a set of cell characteristics. The fields in each record are:\n",
        "\n",
        "| Field name  | Description                 |\n",
        "| ----------- | --------------------------- |\n",
        "| ID          | Clump thickness             |\n",
        "| Clump       | Clump thickness             |\n",
        "| UnifSize    | Uniformity of cell size     |\n",
        "| UnifShape   | Uniformity of cell shape    |\n",
        "| MargAdh     | Marginal adhesion           |\n",
        "| SingEpiSize | Single epithelial cell size |\n",
        "| BareNuc     | Bare nuclei                 |\n",
        "| BlandChrom  | Bland chromatin             |\n",
        "| NormNucl    | Normal nucleoli             |\n",
        "| Mit         | Mitoses                     |\n",
        "| Class       | Benign or malignant         |\n",
        "\n",
        "<br>\n",
        "<br>\n",
        "\n",
        "Let's load the dataset:\n"
      ]
    },
    {
      "cell_type": "code",
      "metadata": {
        "id": "1cbda032-c997-460a-9b72-4a05a3ed87de"
      },
      "outputs": [],
      "source": [
        "df = pd.read_csv(\"https://cf-courses-data.s3.us.cloud-object-storage.appdomain.cloud/IBMDeveloperSkillsNetwork-ML0101EN-SkillsNetwork/labs/Module%203/data/cell_samples.csv\")\n",
        "\n",
        "df.head()"
      ],
      "execution_count": null
    },
    {
      "cell_type": "markdown",
      "metadata": {
        "id": "ba553d0e-6b06-45a0-818a-d1a20751bb4b"
      },
      "source": [
        "Now lets remove rows that have a ? in the <code>BareNuc</code> column:\n"
      ]
    },
    {
      "cell_type": "code",
      "metadata": {
        "id": "4cc851a2-be8a-4a00-8893-9dd0495f1a88"
      },
      "outputs": [],
      "source": [
        "df= df[pd.to_numeric(df['BareNuc'], errors='coerce').notnull()]"
      ],
      "execution_count": null
    },
    {
      "cell_type": "markdown",
      "metadata": {
        "id": "a80a127c-4a05-4730-b6d7-f19868f3da8e"
      },
      "source": [
        "We obtain the features:\n"
      ]
    },
    {
      "cell_type": "code",
      "metadata": {
        "id": "05db2ba2-8626-41b4-a213-034ccd574554"
      },
      "outputs": [],
      "source": [
        "X =  df[['Clump', 'UnifSize', 'UnifShape', 'MargAdh', 'SingEpiSize', 'BareNuc', 'BlandChrom', 'NormNucl', 'Mit']]\n",
        "\n",
        "X.head()"
      ],
      "execution_count": null
    },
    {
      "cell_type": "markdown",
      "metadata": {
        "id": "9e4cf004-0471-4803-98ff-385c80f35af8"
      },
      "source": [
        "We obtain the class labels:\n"
      ]
    },
    {
      "cell_type": "code",
      "metadata": {
        "id": "8c7ff677-e4e7-4f5a-a26e-e2ec55d31aa1"
      },
      "outputs": [],
      "source": [
        "y=df['Class']\n",
        "y.head()"
      ],
      "execution_count": null
    },
    {
      "cell_type": "markdown",
      "metadata": {
        "id": "49416621-67c5-4e7e-adb0-ed15dc9d5da7"
      },
      "source": [
        "We split the data into training and testing sets.\n"
      ]
    },
    {
      "cell_type": "code",
      "metadata": {
        "id": "1d09a345-f074-4160-9dc1-9cfe0f966735"
      },
      "outputs": [],
      "source": [
        "X_train, X_test, y_train, y_test = train_test_split( X, y, test_size=0.2, random_state=4)\n",
        "print ('Train set:', X_train.shape,  y_train.shape)\n",
        "print ('Test set:', X_test.shape,  y_test.shape)"
      ],
      "execution_count": null
    },
    {
      "cell_type": "markdown",
      "metadata": {
        "id": "f8d219ed-b84f-494d-bc17-2453f9dba18b"
      },
      "source": [
        "We use <code>GridSearchCV</code> to search over specified parameter values  of the model.\n"
      ]
    },
    {
      "cell_type": "code",
      "metadata": {
        "id": "704a89cf-618b-4a0e-b448-6ac3f6ca9857"
      },
      "outputs": [],
      "source": [
        "from sklearn.model_selection import GridSearchCV"
      ],
      "execution_count": null
    },
    {
      "cell_type": "markdown",
      "metadata": {
        "id": "8f31c6d1-74e7-4c49-95c7-e879b24eaf14"
      },
      "source": [
        "We create a <code>RandomForestClassifier</code> object and list the parameters using the method <code>get_params()</code>:\n"
      ]
    },
    {
      "cell_type": "code",
      "metadata": {
        "id": "a8e19973-e1ec-4484-b5bd-8146586d3599"
      },
      "outputs": [],
      "source": [
        "model = RandomForestClassifier()\n",
        "model.get_params().keys()"
      ],
      "execution_count": null
    },
    {
      "cell_type": "markdown",
      "metadata": {
        "id": "9cc2bffe-0c70-49bb-9e1c-26d348044bbf"
      },
      "source": [
        "We can use GridSearch for Exhaustive search over specified parameter values. We see many of the parameters are similar to Classification trees; let's try a different parameter for <code>max_depth</code>, <code>max_features</code> and <code>n_estimators</code>.\n"
      ]
    },
    {
      "cell_type": "code",
      "metadata": {
        "id": "ad8262e9-1ff7-4dca-a61d-14f97e1e2bf2"
      },
      "outputs": [],
      "source": [
        "param_grid = {'n_estimators': [2*n+1 for n in range(20)],\n",
        "             'max_depth' : [2*n+1 for n in range(10) ],\n",
        "             'max_features':[\"auto\", \"sqrt\", \"log2\"]}\n"
      ],
      "execution_count": null
    },
    {
      "cell_type": "markdown",
      "metadata": {
        "id": "50f4fbf8-434d-42be-82e5-f10f321d753c"
      },
      "source": [
        "We create the Grid Search object and fit it:\n"
      ]
    },
    {
      "cell_type": "code",
      "metadata": {
        "id": "763d6680-5193-4323-8110-e59b70395f93"
      },
      "outputs": [],
      "source": [
        "search = GridSearchCV(estimator=model, param_grid=param_grid,scoring='accuracy')\n",
        "search.fit(X_train, y_train)"
      ],
      "execution_count": null
    },
    {
      "cell_type": "markdown",
      "metadata": {
        "id": "a422b7ae-b3a8-4952-b9f1-996534e05763"
      },
      "source": [
        "We can see the best accuracy score of the searched parameters was \\~98%.\n"
      ]
    },
    {
      "cell_type": "code",
      "metadata": {
        "id": "5c982c85-2ba1-4b30-a029-17e985247089"
      },
      "outputs": [],
      "source": [
        "search.best_score_"
      ],
      "execution_count": null
    },
    {
      "cell_type": "markdown",
      "metadata": {
        "id": "98ab0300-b05c-47ef-b64e-03dc2b35d060"
      },
      "source": [
        "The best parameter values are:\n"
      ]
    },
    {
      "cell_type": "code",
      "metadata": {
        "id": "83f14a40-fc20-4f89-b063-5cf405c15b94"
      },
      "outputs": [],
      "source": [
        "search.best_params_"
      ],
      "execution_count": null
    },
    {
      "cell_type": "markdown",
      "metadata": {
        "id": "7426fb8f-083e-45b7-837c-f065863c0624"
      },
      "source": [
        "We can calculate accuracy on the test data using the test data:\n"
      ]
    },
    {
      "cell_type": "code",
      "metadata": {
        "id": "c07d6386-6af8-4e32-8ce5-d9ba491bc4ec"
      },
      "outputs": [],
      "source": [
        "\n",
        "print(get_accuracy(X_train, X_test, y_train, y_test, search.best_estimator_))"
      ],
      "execution_count": null
    },
    {
      "cell_type": "markdown",
      "metadata": {
        "id": "b86a17fe-cb6d-4ca8-999e-3a05f0da1f28"
      },
      "source": [
        "<h2 id=\"practice\">Practice</h2>\n"
      ]
    },
    {
      "cell_type": "markdown",
      "metadata": {
        "id": "7a54671d-9252-4807-a141-2d8e7acd5b85"
      },
      "source": [
        "Imagine that you are a medical researcher compiling data for a study. You have collected data about a set of patients, all of whom suffered from the same illness. During their course of treatment, each patient responded to one of 5 medications, Drug A, Drug B, Drug c, Drug x and y.\n",
        "\n",
        "Part of your job is to build a model to find out which drug might be appropriate for a future patient with the same illness. The features of this dataset are Age, Sex, Blood Pressure, and the Cholesterol of the patients, and the target is the drug that each patient responded to.\n",
        "\n",
        "It is a sample of multiclass classifier, and you can use the training part of the dataset to build a decision tree, and then use it to predict the class of a unknown patient, or to prescribe a drug to a new patient.\n"
      ]
    },
    {
      "cell_type": "code",
      "metadata": {
        "id": "0abb05de-9262-40ee-a6bf-5ad076be93c7"
      },
      "outputs": [],
      "source": [
        "df = pd.read_csv(\"https://cf-courses-data.s3.us.cloud-object-storage.appdomain.cloud/IBMDeveloperSkillsNetwork-ML0101EN-SkillsNetwork/labs/Module%203/data/drug200.csv\", delimiter=\",\")\n",
        "df.head()"
      ],
      "execution_count": null
    },
    {
      "cell_type": "markdown",
      "metadata": {
        "id": "08f68ca5-b68b-47f0-a81c-28bebc98e926"
      },
      "source": [
        "Let's create the X and y for our dataset:\n"
      ]
    },
    {
      "cell_type": "code",
      "metadata": {
        "id": "379312f2-ed29-4293-a122-9943c401a8a4"
      },
      "outputs": [],
      "source": [
        "X = df[['Age', 'Sex', 'BP', 'Cholesterol', 'Na_to_K']].values\n",
        "X[0:5]"
      ],
      "execution_count": null
    },
    {
      "cell_type": "code",
      "metadata": {
        "id": "7036b9ea-d649-46d9-b166-1ecfdd155d26"
      },
      "outputs": [],
      "source": [
        "y = df[\"Drug\"]\n",
        "y[0:5]"
      ],
      "execution_count": null
    },
    {
      "cell_type": "markdown",
      "metadata": {
        "id": "d8a5b422-4603-418e-8683-ce81d91e6093"
      },
      "source": [
        "Now lets use a <code>LabelEncoder</code> to turn categorical features into numerical:\n"
      ]
    },
    {
      "cell_type": "code",
      "metadata": {
        "id": "f50cdf84-695b-413b-b037-8ea423ae9fa9"
      },
      "outputs": [],
      "source": [
        "from sklearn import preprocessing\n",
        "le_sex = preprocessing.LabelEncoder()\n",
        "le_sex.fit(['F','M'])\n",
        "X[:,1] = le_sex.transform(X[:,1])\n",
        "\n",
        "\n",
        "le_BP = preprocessing.LabelEncoder()\n",
        "le_BP.fit([ 'LOW', 'NORMAL', 'HIGH'])\n",
        "X[:,2] = le_BP.transform(X[:,2])\n",
        "\n",
        "\n",
        "le_Chol = preprocessing.LabelEncoder()\n",
        "le_Chol.fit([ 'NORMAL', 'HIGH'])\n",
        "X[:,3] = le_Chol.transform(X[:,3])\n",
        "\n",
        "X[0:5]"
      ],
      "execution_count": null
    },
    {
      "cell_type": "markdown",
      "metadata": {
        "id": "eebb59d9-a507-4d4f-bbae-bc9d897a40c3"
      },
      "source": [
        "Split the data into training and testing data with a 80/20 split\n"
      ]
    },
    {
      "cell_type": "code",
      "metadata": {
        "id": "e5f6ef64-4576-4497-982a-1501f7b10b33"
      },
      "outputs": [],
      "source": [
        "X_train, X_test, y_train, y_test = train_test_split( X, y, test_size=0.2, random_state=4)\n",
        "print ('Train set:', X_train.shape,  y_train.shape)\n",
        "print ('Test set:', X_test.shape,  y_test.shape)"
      ],
      "execution_count": null
    },
    {
      "cell_type": "markdown",
      "metadata": {
        "id": "94909b10-3060-4e35-a1fb-4b2d08e71162"
      },
      "source": [
        "We can use GridSearch for Exhaustive search over specified parameter values.\n"
      ]
    },
    {
      "cell_type": "code",
      "metadata": {
        "id": "cb08cf7f-98ad-48e5-b34f-8f4ae0bf6128"
      },
      "outputs": [],
      "source": [
        "param_grid = {'n_estimators': [2*n+1 for n in range(20)],\n",
        "             'max_depth' : [2*n+1 for n in range(10) ],\n",
        "             'max_features':[\"auto\", \"sqrt\", \"log2\"]}\n"
      ],
      "execution_count": null
    },
    {
      "cell_type": "markdown",
      "metadata": {
        "id": "ea3ed5b1-05e0-49ef-ba0d-5add3f6bae64"
      },
      "source": [
        "Create a <code>RandomForestClassifier </code>object called <cood>model</code> :\n"
      ]
    },
    {
      "cell_type": "code",
      "metadata": {
        "id": "e2b8a3ad-79d2-4cb3-a942-61f367539ffc"
      },
      "outputs": [],
      "source": [],
      "execution_count": null
    },
    {
      "cell_type": "markdown",
      "metadata": {
        "id": "fef565ac-fd00-4af3-9726-7c6bc659bb0a"
      },
      "source": [
        "<details><summary>Click here for the solution</summary>\n",
        "\n",
        "```python\n",
        "model = RandomForestClassifier()\n",
        "\n",
        "```\n",
        "\n",
        "</details>\n"
      ]
    },
    {
      "cell_type": "markdown",
      "metadata": {
        "id": "22fe7e5d-bb74-44fc-b146-ae6ab147afe7"
      },
      "source": [
        "Create <code>GridSearchCV</code> object called `search` with the `estimator` set to <code>model</code>, <code>param_grid</code> set to <code>param_grid</code>, <code>scoring</code> set to <code>accuracy</code>, and  <code>cv</code> set to 3 and Fit the <code>GridSearchCV</code> object to our <code>X_train</code> and <code>y_train</code> data\n"
      ]
    },
    {
      "cell_type": "code",
      "metadata": {
        "id": "8d58f465-30fa-4e6e-9ea1-0ee68227569f"
      },
      "outputs": [],
      "source": [],
      "execution_count": null
    },
    {
      "cell_type": "markdown",
      "metadata": {
        "id": "a10b56b9-3e91-4f59-943a-63f002bfd61b"
      },
      "source": [
        "<details><summary>Click here for the solution</summary>\n",
        "\n",
        "```python\n",
        "search = GridSearchCV(estimator=model, param_grid=param_grid,scoring='accuracy', cv=3)\n",
        "search.fit(X_train, y_train)\n",
        "\n",
        "```\n",
        "\n",
        "</details>\n"
      ]
    },
    {
      "cell_type": "markdown",
      "metadata": {
        "id": "cdb2bb50-30f0-4fe2-a72c-410b10613cf9"
      },
      "source": [
        "We can find the accuracy of the best model.\n"
      ]
    },
    {
      "cell_type": "code",
      "metadata": {
        "id": "87e76cf8-60f5-4541-abe1-8e4533b8af72"
      },
      "outputs": [],
      "source": [
        "search.best_score_"
      ],
      "execution_count": null
    },
    {
      "cell_type": "markdown",
      "metadata": {
        "id": "d6c84498-9c63-48d0-aca7-3056fa6a4944"
      },
      "source": [
        "We can find the best parameter values:\n"
      ]
    },
    {
      "cell_type": "code",
      "metadata": {
        "id": "71f61f4d-00cf-4051-b8e6-f058694b42b8"
      },
      "outputs": [],
      "source": [
        "search.best_params_"
      ],
      "execution_count": null
    },
    {
      "cell_type": "markdown",
      "metadata": {
        "id": "994d5858-ca09-4203-96b5-22af81c565db"
      },
      "source": [
        "We can find the accuracy test data:\n"
      ]
    },
    {
      "cell_type": "markdown",
      "metadata": {
        "id": "9b983d33-68d3-493a-9212-f672923b9d54"
      },
      "source": [
        "<details><summary>Click here for the solution</summary>\n",
        "\n",
        "```python\n",
        "print(get_accuracy(X_train, X_test, y_train, y_test, search.best_estimator_))\n",
        "```\n",
        "\n",
        "</details>\n"
      ]
    },
    {
      "cell_type": "markdown",
      "metadata": {
        "id": "1a139185-e5d0-4f3e-9024-6278c303a78f"
      },
      "source": [
        "<h2>Want to learn more?</h2>\n",
        "\n",
        "IBM SPSS Modeler is a comprehensive analytics platform that has many machine learning algorithms. It has been designed to bring predictive intelligence to decisions made by individuals, by groups, by systems – by your enterprise as a whole. A free trial is available through this course, available here: <a href=\"https://www.ibm.com/analytics/spss-statistics-software?utm_source=Exinfluencer&utm_content=000026UJ&utm_id=NA-SkillsNetwork-Channel-SkillsNetworkCoursesIBMDeveloperSkillsNetworkML0101ENSkillsNetwork20718538-2021-01-01&utm_medium=Exinfluencer&utm_term=10006555\">SPSS Modeler</a>\n",
        "\n",
        "Also, you can use Watson Studio to run these notebooks faster with bigger datasets. Watson Studio is IBM's leading cloud solution for data scientists, built by data scientists. With Jupyter notebooks, RStudio, Apache Spark and popular libraries pre-packaged in the cloud, Watson Studio enables data scientists to collaborate on their projects without having to install anything. Join the fast-growing community of Watson Studio users today with a free account at <a href=\"https://www.ibm.com/cloud/watson-studio?utm_source=Exinfluencer&utm_content=000026UJ&utm_id=NA-SkillsNetwork-Channel-SkillsNetworkCoursesIBMDeveloperSkillsNetworkML0101ENSkillsNetwork20718538-2021-01-01&utm_medium=Exinfluencer&utm_term=10006555\">Watson Studio</a>\n"
      ]
    },
    {
      "cell_type": "markdown",
      "metadata": {
        "id": "40ed3709-6ab2-4b1d-ba83-9a08604bbcfa"
      },
      "source": [
        "### Thank you for completing this lab!\n",
        "\n",
        "## Author\n",
        "\n",
        "<a href=\"https://www.linkedin.com/in/joseph-s-50398b136/?utm_medium=Exinfluencer&utm_source=Exinfluencer&utm_content=000026UJ&utm_term=10006555&utm_id=NA-SkillsNetwork-Channel-SkillsNetworkCoursesIBMDeveloperSkillsNetworkML0101ENSkillsNetwork20718538-2021-01-01\" target=\"_blank\">Joseph Santarcangelo</a>\n",
        "\n",
        "### Other Contributors\n",
        "\n",
        "## <h3 align=\"center\"> © IBM Corporation 2020. All rights reserved. <h3/>\n",
        "\n",
        "<!--## Change Log\n",
        "\n",
        "| Date (YYYY-MM-DD) | Version | Changed By | Change Description |\n",
        "| ----------------- | ------- | ---------- | ------------------ |\n",
        "| 2022-02-09        | 0.1     | Joseph Santarcangelo | Created Lab Template |\n",
        "| 2022-05-03        | 0.2     | Richard Ye           | QA pass              |--!>\n",
        "\n",
        "\n",
        "\n",
        "\n"
      ]
    }
  ],
  "metadata": {
    "kernelspec": {
      "display_name": "Python",
      "language": "python",
      "name": "conda-env-python-py"
    },
    "language_info": {
      "name": "python",
      "version": "3.11.9",
      "mimetype": "text/x-python",
      "codemirror_mode": {
        "name": "ipython",
        "version": 3
      },
      "pygments_lexer": "ipython3",
      "nbconvert_exporter": "python",
      "file_extension": ".py"
    },
    "prev_pub_hash": "befc0861afdad8a41bf6225db9a520efcbd34115e99e074fa7ca4245e1daa9b7",
    "colab": {
      "provenance": [],
      "include_colab_link": true
    }
  },
  "nbformat": 4,
  "nbformat_minor": 0
}