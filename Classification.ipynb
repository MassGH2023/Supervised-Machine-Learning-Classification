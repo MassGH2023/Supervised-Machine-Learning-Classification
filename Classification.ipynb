{
  "nbformat": 4,
  "nbformat_minor": 0,
  "metadata": {
    "colab": {
      "provenance": [],
      "authorship_tag": "ABX9TyObr/VjBuiNvWpgm/30/5VX",
      "include_colab_link": true
    },
    "kernelspec": {
      "name": "python3",
      "display_name": "Python 3"
    },
    "language_info": {
      "name": "python"
    }
  },
  "cells": [
    {
      "cell_type": "markdown",
      "metadata": {
        "id": "view-in-github",
        "colab_type": "text"
      },
      "source": [
        "<a href=\"https://colab.research.google.com/github/MassGH2023/Supervised-Machine-Learning-Classification/blob/main/Classification.ipynb\" target=\"_parent\"><img src=\"https://colab.research.google.com/assets/colab-badge.svg\" alt=\"Open In Colab\"/></a>"
      ]
    },
    {
      "cell_type": "markdown",
      "source": [
        "\n",
        "Main objective of the analysis that specifies whether your model will be focused on prediction or interpretation.\n",
        "Brief description of the data set you chose and a summary of its attributes.\n",
        "    Brief summary of data exploration and actions taken for data cleaning and feature engineering.\n",
        "    Summary of training at least three linear regression models which should be variations that cover using a simple linear regression as a baseline, adding polynomial effects, and using a regularization regression. Preferably, all use the same training and test splits, or the same cross-validation method.\n",
        "    A paragraph explaining which of your regressions you recommend as a final model that best fits your needs in terms of accuracy and explainability.\n",
        "    Summary Key Findings and Insights, which walks your reader through the main drivers of your model and insights from your data derived from your linear regression model.\n",
        "    Suggestions for next steps in analyzing this data, which may include suggesting revisiting this model adding specific data features to achieve a better explanation or a better prediction.\n"
      ],
      "metadata": {
        "id": "dwYDBWLKQ4Iu"
      }
    },
    {
      "cell_type": "markdown",
      "source": [
        "Differentiate uses and applications of classification and classification ensembles\n",
        "\n",
        "Describe and use logistic regression models\n",
        "\n",
        "Describe and use decision tree and tree-ensemble models\n",
        "\n",
        "Describe and use other ensemble methods for classification\n",
        "\n",
        "Use a variety of error metrics to compare and select the classification model that best suits your data\n",
        "\n",
        "Use oversampling and undersampling as techniques to handle unbalanced classes in a data set"
      ],
      "metadata": {
        "id": "xtT-CgDfRTvu"
      }
    },
    {
      "cell_type": "code",
      "execution_count": null,
      "metadata": {
        "id": "6RlTNrIOQ3Jr"
      },
      "outputs": [],
      "source": []
    }
  ]
}