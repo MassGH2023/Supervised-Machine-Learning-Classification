{
  "nbformat": 4,
  "nbformat_minor": 0,
  "metadata": {
    "colab": {
      "provenance": [],
      "authorship_tag": "ABX9TyP0yx+HMSfVBECR10Wu06y+",
      "include_colab_link": true
    },
    "kernelspec": {
      "name": "python3",
      "display_name": "Python 3"
    },
    "language_info": {
      "name": "python"
    }
  },
  "cells": [
    {
      "cell_type": "markdown",
      "metadata": {
        "id": "view-in-github",
        "colab_type": "text"
      },
      "source": [
        "<a href=\"https://colab.research.google.com/github/MassGH2023/Supervised-Machine-Learning-Classification/blob/main/Decision_tree.ipynb\" target=\"_parent\"><img src=\"https://colab.research.google.com/assets/colab-badge.svg\" alt=\"Open In Colab\"/></a>"
      ]
    },
    {
      "cell_type": "markdown",
      "source": [
        "# Decision tree\n",
        "\n",
        "A decision tree is a flowchart-like structure used to make decisions or predictions. It consists of nodes representing decisions or tests on attributes, branches representing the outcome of these decisions, and leaf nodes representing final outcomes or predictions. Each internal node corresponds to a test on an attribute, each branch corresponds to the result of the test, and each leaf node corresponds to a class label or a continuous value.\n",
        "\n",
        "\n",
        "**How Decision Trees Work?**\n",
        "\n",
        "The process of creating a decision tree involves:\n",
        "\n",
        "* Selecting the Best Attribute: Using a metric like Gini impurity, entropy, or information gain, the best attribute to split the data is selected.\n",
        "* Splitting the Dataset: The dataset is split into subsets based on the selected attribute.\n",
        "* Repeating the Process: The process is repeated recursively for each subset, creating a new internal node or leaf node until a stopping criterion is met (e.g., all instances in a node belong to the same class or a predefined depth is reached)."
      ],
      "metadata": {
        "id": "JV0Ndl34NUCd"
      }
    },
    {
      "cell_type": "markdown",
      "source": [
        "The algorithm selects the feature that best splits the data at each decision node, often using metrics like Gini impurity, Entropy (for classification), or Mean Squared Error (for regression).\n",
        "\n",
        "**Determining When to Stop Splitting:**\n",
        "\n",
        "Maximum Depth: The tree stops growing after reaching a specified maximum number of splits (depth). For example, if the maximum depth is 3, the tree can have up to 3 levels of splits.\n",
        "\n",
        "Minimum Samples per Leaf: The tree stops if a split results in a leaf node with fewer than a specified number of samples. For example, if you set this to 2, the tree won’t split if the resulting leaf node has only 1 sample.\n",
        "\n",
        "Maximum Number of Nodes: The tree stops if it reaches a predefined number of nodes (splits).\n",
        "\n",
        "Pure Nodes: If all data points in a node belong to the same class (or are very similar), the tree stops splitting. This is a \"pure\" node where no further splits are needed.\n",
        "\n",
        "No Improvement: If splitting a node does not significantly improve the classification or regression performance (based on a metric like Gini or MSE), the tree stops."
      ],
      "metadata": {
        "id": "s2Kzh4fnSbd4"
      }
    },
    {
      "cell_type": "markdown",
      "source": [
        "**Metrics for Splitting**\n",
        "\n",
        "1. Gini Impurity\n",
        "2. Entropy\n",
        "3. Information Gain"
      ],
      "metadata": {
        "id": "AnhXLZboXcQG"
      }
    },
    {
      "cell_type": "markdown",
      "source": [
        "![1_nNY_7_aWRwp8E2DyGduEPg.webp](data:image/webp;base64,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)"
      ],
      "metadata": {
        "id": "iUq6QK6QFJm2"
      }
    },
    {
      "cell_type": "markdown",
      "source": [
        "![1_KjVvgo1Ks0WJb6i3tHwdBA.webp](data:image/webp;base64,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)"
      ],
      "metadata": {
        "id": "ZQ0iDl6OFz7d"
      }
    },
    {
      "cell_type": "markdown",
      "source": [
        "**No scaling required!**"
      ],
      "metadata": {
        "id": "mhPBHfcgKaV6"
      }
    },
    {
      "cell_type": "code",
      "execution_count": null,
      "metadata": {
        "id": "ogG-TvGANIyy"
      },
      "outputs": [],
      "source": []
    }
  ]
}